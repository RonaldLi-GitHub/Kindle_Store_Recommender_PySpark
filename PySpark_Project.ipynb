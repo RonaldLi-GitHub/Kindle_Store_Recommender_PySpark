{
  "nbformat": 4,
  "nbformat_minor": 0,
  "metadata": {
    "colab": {
      "name": "Spark Project.ipynb",
      "provenance": [],
      "collapsed_sections": []
    },
    "kernelspec": {
      "name": "python3",
      "display_name": "Python 3"
    },
    "language_info": {
      "name": "python"
    }
  },
  "cells": [
    {
      "cell_type": "code",
      "source": [
        "!pip install pyspark"
      ],
      "metadata": {
        "colab": {
          "base_uri": "https://localhost:8080/"
        },
        "id": "TRqTY5oi0MpB",
        "outputId": "e184a90f-0e5a-4237-9581-c89526eba92c"
      },
      "execution_count": null,
      "outputs": [
        {
          "output_type": "stream",
          "name": "stdout",
          "text": [
            "Collecting pyspark\n",
            "  Downloading pyspark-3.2.1.tar.gz (281.4 MB)\n",
            "\u001b[K     |████████████████████████████████| 281.4 MB 35 kB/s \n",
            "\u001b[?25hCollecting py4j==0.10.9.3\n",
            "  Downloading py4j-0.10.9.3-py2.py3-none-any.whl (198 kB)\n",
            "\u001b[K     |████████████████████████████████| 198 kB 58.0 MB/s \n",
            "\u001b[?25hBuilding wheels for collected packages: pyspark\n",
            "  Building wheel for pyspark (setup.py) ... \u001b[?25l\u001b[?25hdone\n",
            "  Created wheel for pyspark: filename=pyspark-3.2.1-py2.py3-none-any.whl size=281853642 sha256=30543451797e74285c59dbf047e83788a3b29aa8fa505e462b800da11a3dd29c\n",
            "  Stored in directory: /root/.cache/pip/wheels/9f/f5/07/7cd8017084dce4e93e84e92efd1e1d5334db05f2e83bcef74f\n",
            "Successfully built pyspark\n",
            "Installing collected packages: py4j, pyspark\n",
            "Successfully installed py4j-0.10.9.3 pyspark-3.2.1\n"
          ]
        }
      ]
    },
    {
      "cell_type": "markdown",
      "source": [
        "Download source data csv file"
      ],
      "metadata": {
        "id": "E2PTX7bLv_Yz"
      }
    },
    {
      "cell_type": "code",
      "source": [
        "!wget http://snap.stanford.edu/data/amazon/productGraph/categoryFiles/ratings_Kindle_Store.csv"
      ],
      "metadata": {
        "colab": {
          "base_uri": "https://localhost:8080/"
        },
        "id": "di5R3VcIv-Um",
        "outputId": "9eea82e6-db45-4179-b8be-ddbaeb6736d5"
      },
      "execution_count": null,
      "outputs": [
        {
          "output_type": "stream",
          "name": "stdout",
          "text": [
            "--2022-02-23 05:46:43--  http://snap.stanford.edu/data/amazon/productGraph/categoryFiles/ratings_Kindle_Store.csv\n",
            "Resolving snap.stanford.edu (snap.stanford.edu)... 171.64.75.80\n",
            "Connecting to snap.stanford.edu (snap.stanford.edu)|171.64.75.80|:80... connected.\n",
            "HTTP request sent, awaiting response... 200 OK\n",
            "Length: 130622468 (125M) [text/csv]\n",
            "Saving to: ‘ratings_Kindle_Store.csv’\n",
            "\n",
            "ratings_Kindle_Stor 100%[===================>] 124.57M  4.09MB/s    in 30s     \n",
            "\n",
            "2022-02-23 05:47:14 (4.13 MB/s) - ‘ratings_Kindle_Store.csv’ saved [130622468/130622468]\n",
            "\n"
          ]
        }
      ]
    },
    {
      "cell_type": "markdown",
      "source": [
        "Let's create a Spark session."
      ],
      "metadata": {
        "id": "cjiUlEV4Hreo"
      }
    },
    {
      "cell_type": "code",
      "source": [
        "from pyspark.sql import SparkSession\n",
        "spark = SparkSession.builder\\\n",
        "        .master(\"local\")\\\n",
        "        .appName(\"Colab\")\\\n",
        "        .config('spark.ui.port', '4050')\\\n",
        "        .getOrCreate()"
      ],
      "metadata": {
        "id": "Nffkk8MO0eqW"
      },
      "execution_count": null,
      "outputs": []
    },
    {
      "cell_type": "markdown",
      "source": [
        "Let's initiate the Spark dataframe."
      ],
      "metadata": {
        "id": "ye7JzAlN9M8-"
      }
    },
    {
      "cell_type": "code",
      "source": [
        "from pyspark.sql.types import StructType, StructField, IntegerType, StringType, FloatType\n",
        "from pyspark.ml.evaluation import RegressionEvaluator\n",
        "from pyspark.ml.recommendation import ALS\n",
        "schema = StructType([\n",
        "    StructField(\"user\", StringType(), True),\n",
        "    StructField(\"item\", StringType(), True),\n",
        "    StructField(\"rating\", FloatType(), True),\n",
        "    StructField(\"timestamp\", IntegerType(), True)\n",
        "    ])\n",
        "\n",
        "col_names=[\"user\", \"item\", \"rating\", \"timestamp\"]\n",
        "df = spark.read.csv('/content/ratings_Kindle_Store.csv', schema=schema, header=None)"
      ],
      "metadata": {
        "id": "zQcQhsz05szn"
      },
      "execution_count": null,
      "outputs": []
    },
    {
      "cell_type": "markdown",
      "source": [
        "Let's show the first 10 rows."
      ],
      "metadata": {
        "id": "VBMYrHeHHcAh"
      }
    },
    {
      "cell_type": "code",
      "source": [
        "df.show(10)"
      ],
      "metadata": {
        "id": "A7eQbWbx58Pg"
      },
      "execution_count": null,
      "outputs": []
    },
    {
      "cell_type": "markdown",
      "source": [
        "Let's check the number of null values in each of the columns."
      ],
      "metadata": {
        "id": "jOlzHx_nzy7x"
      }
    },
    {
      "cell_type": "code",
      "source": [
        "from pyspark.sql.functions import isnan, when, count, col\n",
        "df.select([count(when(isnan(c) | col(c).isNull(), c)).alias(c) for c in df.columns]).show()\n"
      ],
      "metadata": {
        "colab": {
          "base_uri": "https://localhost:8080/"
        },
        "id": "hAfQodaTxlcM",
        "outputId": "e3ae99d9-a8ea-4423-99df-623fa4f96169"
      },
      "execution_count": null,
      "outputs": [
        {
          "output_type": "stream",
          "name": "stdout",
          "text": [
            "+----+----+------+---------+\n",
            "|user|item|rating|timestamp|\n",
            "+----+----+------+---------+\n",
            "|   0|   0|     0|        0|\n",
            "+----+----+------+---------+\n",
            "\n"
          ]
        }
      ]
    },
    {
      "cell_type": "markdown",
      "source": [
        "Due to user and item columns being strings, they will need to be converted to numeric. We will assign numbers starting with 1, to represent each unique user and item."
      ],
      "metadata": {
        "id": "ENa4UQ_336dV"
      }
    },
    {
      "cell_type": "code",
      "source": [
        "user_count=df.select(\"user\").distinct().count()\n",
        "item_count=df.select(\"item\").distinct().count()\n",
        "\n",
        "\n"
      ],
      "metadata": {
        "id": "IfOOMs8yzDrW"
      },
      "execution_count": null,
      "outputs": []
    },
    {
      "cell_type": "code",
      "source": [
        "user_tab=df.select(\"user\").sort(\"user\", ascending=False).distinct()\n",
        "item_tab=df.select(\"item\").sort(\"item\", ascending=False).distinct()"
      ],
      "metadata": {
        "id": "_vpSuaIL5C0I"
      },
      "execution_count": null,
      "outputs": []
    },
    {
      "cell_type": "markdown",
      "source": [
        "We will then append the column with numeric IDs for user and item."
      ],
      "metadata": {
        "id": "x9hQbjBsIAe2"
      }
    },
    {
      "cell_type": "code",
      "source": [
        "from pyspark.sql.functions import col, row_number, concat\n",
        "from pyspark.sql.window import Window\n",
        "df_user=user_tab.withColumn(\"user_id\", row_number().over(Window().orderBy(\"user\")))\n",
        "df_item=item_tab.withColumn(\"item_id\", row_number().over(Window().orderBy(\"item\")))\n"
      ],
      "metadata": {
        "id": "hf7jeItu9e3g"
      },
      "execution_count": null,
      "outputs": []
    },
    {
      "cell_type": "code",
      "source": [
        "df_new=df.join(df_user, df.user==df_user.user, \"inner\").select(df[\"*\"], df_user[\"user_id\"])\n",
        "df_new=df_new.join(df_item, df_new.item==df_item.item, \"inner\").select(df_new[\"*\"], df_item[\"item_id\"])"
      ],
      "metadata": {
        "id": "5UXOhUxqCTol"
      },
      "execution_count": null,
      "outputs": []
    },
    {
      "cell_type": "markdown",
      "source": [
        "Let's see the first 30 rows now with user_id and item_id."
      ],
      "metadata": {
        "id": "f8WCuY4iII8k"
      }
    },
    {
      "cell_type": "code",
      "source": [
        "df_new.show(30)"
      ],
      "metadata": {
        "colab": {
          "base_uri": "https://localhost:8080/"
        },
        "id": "zSaCI0VlDJ8A",
        "outputId": "d0a3d2f7-9f0d-4bc3-9473-4f9b7d0a9761"
      },
      "execution_count": null,
      "outputs": [
        {
          "output_type": "stream",
          "name": "stdout",
          "text": [
            "+--------------+----------+------+----------+-------+-------+\n",
            "|          user|      item|rating| timestamp|user_id|item_id|\n",
            "+--------------+----------+------+----------+-------+-------+\n",
            "|A185HGLJQOH1K7|B0002IQ15S|   4.0|1126224000|  86914|      2|\n",
            "|A2RWCDXMX1C597|B0002IQ15S|   4.0|1172448000| 662419|      2|\n",
            "|A13F6NVPW73ORB|B0002IQ15S|   2.0|1212364800|  37743|      2|\n",
            "| AU8DH6AOA1YOJ|B0002IQ15S|   5.0|1102291200|1347790|      2|\n",
            "|A2FN6JKET6O4Y5|B000F83STC|   4.0|1384905600| 536045|      3|\n",
            "|A1F6404F1VG29J|B000F83SZQ|   5.0|1399248000| 159374|      4|\n",
            "|A3DE6XGZ2EPADS|B000F83SZQ|   4.0|1395446400| 884445|      4|\n",
            "|A3SPTOKDG7WBLN|B000F83SZQ|   4.0|1395187200|1042370|      4|\n",
            "| A795DMNCJILA6|B000F83SZQ|   4.0|1396569600|1111909|      4|\n",
            "| AN0N05A9LIJEQ|B000F83SZQ|   4.0|1388966400|1273696|      4|\n",
            "|A1FV0SX13TWVXQ|B000F83SZQ|   5.0|1392768000| 166495|      4|\n",
            "|A1M2PI6B4KY4SD|B000F83SZQ|   5.0|1393372800| 230969|      4|\n",
            "|A1RK2OCZDSGC6R|B000F83SZQ|   4.0|1401062400| 287405|      4|\n",
            "|A2HSAKHC3IBRE6|B000F83SZQ|   4.0|1402358400| 558259|      4|\n",
            "| AXGLIE1I6LX40|B000F83SZQ|   5.0|1404777600|1380882|      4|\n",
            "| AVM9ZUEH31O3G|B000F83TEQ|   5.0|1378080000|1361963|      5|\n",
            "|A1X8VZWTOG8IS6|B000FA5KKA|   4.0|1207180800| 346265|      7|\n",
            "| ASOP1MX20LD8K|B000FA5KKA|   5.0|1396569600|1332023|      7|\n",
            "|A2XCALYSPH9WUV|B000FA5M3K|   5.0|1204761600| 718634|      8|\n",
            "|A1YS7A4OG0L4G2|B000FA5MQ2|   4.0|1356912000| 362195|      9|\n",
            "|A1X8VZWTOG8IS6|B000FA5NSO|   4.0|1207180800| 346265|     10|\n",
            "|A16MHTSXP8BO21|B000FA5RE4|   1.0|1291248000|  71054|     14|\n",
            "|A2DIW99FSR7E17|B000FA5RY4|   5.0|1360800000| 514477|     15|\n",
            "| AFD6Z7BOHD078|B000FA5RY4|   4.0|1339977600|1195376|     15|\n",
            "|A3AM47VJNSKWZR|B000FA5RY4|   4.0|1353628800| 855603|     15|\n",
            "| AHZHMFHL1CKGD|B000FA5RY4|   5.0|1298419200|1222078|     15|\n",
            "|A1J0OTMGG4PEXC|B000FA5S98|   5.0|1400284800| 199253|     16|\n",
            "| A1KGVTO8WG9JI|B000FA5S98|   5.0|1388620800| 214262|     16|\n",
            "|A3HEFJRKSG5LJ0|B000FA5S98|   5.0|1330992000| 925382|     16|\n",
            "|   AFVQZQ8PW0L|B000FA5S98|   5.0|1021161600|1200690|     16|\n",
            "+--------------+----------+------+----------+-------+-------+\n",
            "only showing top 30 rows\n",
            "\n"
          ]
        }
      ]
    },
    {
      "cell_type": "markdown",
      "source": [
        "Let's see which items have the most reviews. (Top 20)"
      ],
      "metadata": {
        "id": "mKgCk4vZ3Vhh"
      }
    },
    {
      "cell_type": "code",
      "source": [
        "review_count=df_new.groupBy(\"item\").count().sort(\"count\", ascending=False)\n",
        "review_count.show(20)"
      ],
      "metadata": {
        "colab": {
          "base_uri": "https://localhost:8080/"
        },
        "id": "wsrbFE563UeF",
        "outputId": "345776e7-2357-484e-84a4-59563a54666b"
      },
      "execution_count": null,
      "outputs": [
        {
          "output_type": "stream",
          "name": "stdout",
          "text": [
            "+----------+-----+\n",
            "|      item|count|\n",
            "+----------+-----+\n",
            "|B006GWO5WK|12226|\n",
            "|B007R5YDYA| 9907|\n",
            "|B005DOK8NW| 4735|\n",
            "|B00825BZUY| 3797|\n",
            "|B0093MU7QS| 3290|\n",
            "|B00902SFC4| 2854|\n",
            "|B006YC7A0Q| 2793|\n",
            "|B006GWO5NE| 2199|\n",
            "|B006P5CH1O| 2141|\n",
            "|B00CATSONE| 2117|\n",
            "|B00BTIDW4S| 2030|\n",
            "|B008GGH4FY| 1898|\n",
            "|B00DFIE80W| 1823|\n",
            "|B006PJ3UKC| 1809|\n",
            "|B008DVVLYW| 1807|\n",
            "|B004JXVOD6| 1620|\n",
            "|B006BGZJJ4| 1562|\n",
            "|B00E86ENEQ| 1488|\n",
            "|B007URVZJ6| 1475|\n",
            "|B005ME39HU| 1438|\n",
            "+----------+-----+\n",
            "only showing top 20 rows\n",
            "\n"
          ]
        }
      ]
    },
    {
      "cell_type": "markdown",
      "source": [
        "Let's see which items have the highest average reviews. (Top 20)"
      ],
      "metadata": {
        "id": "R7wKwRBf5d5c"
      }
    },
    {
      "cell_type": "code",
      "source": [
        "review_avg=df_new.groupBy(\"item\").avg(\"rating\").sort(\"avg(rating)\", ascending=False)\n",
        "review_avg.show(20)"
      ],
      "metadata": {
        "colab": {
          "base_uri": "https://localhost:8080/"
        },
        "id": "Wqv41Zo-5Sny",
        "outputId": "17458a4d-5862-4534-81c9-b4b012b4e8a8"
      },
      "execution_count": null,
      "outputs": [
        {
          "output_type": "stream",
          "name": "stdout",
          "text": [
            "+----------+-----------+\n",
            "|      item|avg(rating)|\n",
            "+----------+-----------+\n",
            "|B000FBF8DS|        5.0|\n",
            "|B000FA66LM|        5.0|\n",
            "|B000F83TEQ|        5.0|\n",
            "|B000FA5M3K|        5.0|\n",
            "|B000FA5S98|        5.0|\n",
            "|B000FA5UXC|        5.0|\n",
            "|B000FA5Z3W|        5.0|\n",
            "|B000FA63OM|        5.0|\n",
            "|B000FBF87E|        5.0|\n",
            "|B000FA5V4A|        5.0|\n",
            "|B000FBF8LU|        5.0|\n",
            "|B000FBF9KA|        5.0|\n",
            "|B000FBFCRA|        5.0|\n",
            "|B000FBFF5E|        5.0|\n",
            "|B000FBFFQI|        5.0|\n",
            "|B000FBFIEM|        5.0|\n",
            "|B000FBFMH0|        5.0|\n",
            "|B000FBFMUM|        5.0|\n",
            "|B000FBFNXI|        5.0|\n",
            "|B000FBFP04|        5.0|\n",
            "+----------+-----------+\n",
            "only showing top 20 rows\n",
            "\n"
          ]
        }
      ]
    },
    {
      "cell_type": "markdown",
      "source": [
        "The table show that the top 20 items all have an average rating of 5.0. This is likely when the number of review is low. To see how review count is correlated with average rating, we will merge the two tables."
      ],
      "metadata": {
        "id": "C5wq0eI_70-9"
      }
    },
    {
      "cell_type": "code",
      "source": [
        "rating_count=review_count.join(review_avg, review_count.item==review_avg.item, \"inner\").select(review_count[\"*\"], review_avg[\"avg(rating)\"])\n",
        "rating_count.show(30)"
      ],
      "metadata": {
        "colab": {
          "base_uri": "https://localhost:8080/"
        },
        "id": "QpjG3NSe7h9s",
        "outputId": "cd0d4196-2b29-4547-beb7-6f6b2ff8ef6c"
      },
      "execution_count": null,
      "outputs": [
        {
          "output_type": "stream",
          "name": "stdout",
          "text": [
            "+----------+-----+------------------+\n",
            "|      item|count|       avg(rating)|\n",
            "+----------+-----+------------------+\n",
            "|1603420304|   87| 4.471264367816092|\n",
            "|B0002IQ15S|    4|              3.75|\n",
            "|B000F83STC|    1|               4.0|\n",
            "|B000F83SZQ|   10|               4.4|\n",
            "|B000F83TEQ|    1|               5.0|\n",
            "|B000FA5KJQ|    1|               1.0|\n",
            "|B000FA5KKA|    2|               4.5|\n",
            "|B000FA5M3K|    1|               5.0|\n",
            "|B000FA5MQ2|    1|               4.0|\n",
            "|B000FA5NSO|    1|               4.0|\n",
            "|B000FA5O8I|    1|               4.0|\n",
            "|B000FA5PV4|   25|               4.6|\n",
            "|B000FA5QBS|    6|3.6666666666666665|\n",
            "|B000FA5RE4|    1|               1.0|\n",
            "|B000FA5RY4|    4|               4.5|\n",
            "|B000FA5S98|    4|               5.0|\n",
            "|B000FA5SHK|    1|               2.0|\n",
            "|B000FA5T4W|    2|               4.0|\n",
            "|B000FA5TOM|   10|               4.1|\n",
            "|B000FA5UXC|    1|               5.0|\n",
            "|B000FA5V2C|    1|               4.0|\n",
            "|B000FA5V4A|    1|               5.0|\n",
            "|B000FA5WOY|    1|               4.0|\n",
            "|B000FA5X16|    1|               1.0|\n",
            "|B000FA5XF2|    2|               3.0|\n",
            "|B000FA5Z3W|    1|               5.0|\n",
            "|B000FA5Z46|    1|               1.0|\n",
            "|B000FA5ZEG|    1|               4.0|\n",
            "|B000FA5ZNC|    1|               2.0|\n",
            "|B000FA5ZS2|    2|               4.0|\n",
            "+----------+-----+------------------+\n",
            "only showing top 30 rows\n",
            "\n"
          ]
        }
      ]
    },
    {
      "cell_type": "code",
      "source": [
        "import matplotlib.pyplot as plt\n",
        "plt.plot(rating_count.select(\"count\").collect(),rating_count.select(\"avg(rating)\").collect() )"
      ],
      "metadata": {
        "colab": {
          "base_uri": "https://localhost:8080/",
          "height": 283
        },
        "id": "lEOnQKr08pnG",
        "outputId": "0b267243-22e7-4fca-bcc2-bd09db3d2c8b"
      },
      "execution_count": null,
      "outputs": [
        {
          "output_type": "execute_result",
          "data": {
            "text/plain": [
              "[<matplotlib.lines.Line2D at 0x7feb2d54db90>]"
            ]
          },
          "metadata": {},
          "execution_count": 15
        },
        {
          "output_type": "display_data",
          "data": {
            "image/png": "[encoded data removed]",
            "text/plain": [
              "<Figure size 432x288 with 1 Axes>"
            ]
          },
          "metadata": {
            "needs_background": "light"
          }
        }
      ]
    },
    {
      "cell_type": "markdown",
      "source": [
        "Let's split the data into 80% training and 20% testing and then train the model."
      ],
      "metadata": {
        "id": "IFZ7hS9I99E5"
      }
    },
    {
      "cell_type": "code",
      "source": [
        "(training, test) = df_new.randomSplit([0.8, 0.2])\n",
        "\n",
        "als = ALS(maxIter=5, regParam=0.09, rank=25, userCol=\"user_id\", itemCol=\"item_id\", ratingCol=\"rating\",\n",
        "          coldStartStrategy=\"drop\", nonnegative=True)\n",
        "model = als.fit(training)\n"
      ],
      "metadata": {
        "id": "8pr8ot2m7t6h"
      },
      "execution_count": null,
      "outputs": []
    },
    {
      "cell_type": "markdown",
      "source": [
        "Let's evaluate the model on the test data in term of root mean square error."
      ],
      "metadata": {
        "id": "rTWZXXAL-FK2"
      }
    },
    {
      "cell_type": "code",
      "source": [
        "evaluator = RegressionEvaluator(metricName=\"rmse\", labelCol=\"rating\",\n",
        "                                predictionCol=\"prediction\")\n",
        "predictions = model.transform(test)\n",
        "rmse = evaluator.evaluate(predictions)\n",
        "print(\"Root mean square error is \" + str(rmse))"
      ],
      "metadata": {
        "colab": {
          "base_uri": "https://localhost:8080/"
        },
        "id": "fwND3bdhFsqX",
        "outputId": "3e757ee1-620c-4903-dd59-8e1907cc723c"
      },
      "execution_count": null,
      "outputs": [
        {
          "output_type": "stream",
          "name": "stdout",
          "text": [
            "Root mean square error is 1.4835232524535922\n"
          ]
        }
      ]
    },
    {
      "cell_type": "markdown",
      "source": [
        "The following will output the top 10 recommended items for each user."
      ],
      "metadata": {
        "id": "S_GSr102-t9D"
      }
    },
    {
      "cell_type": "code",
      "source": [
        "users = df_new.select(als.getUserCol()).distinct().limit(3)"
      ],
      "metadata": {
        "id": "iIOwUOGP-YRo"
      },
      "execution_count": null,
      "outputs": []
    },
    {
      "cell_type": "code",
      "source": [
        "model.recommendForUserSubset(users, 10).show()"
      ],
      "metadata": {
        "id": "FHstP5kWuDI_"
      },
      "execution_count": null,
      "outputs": []
    }
  ]
}